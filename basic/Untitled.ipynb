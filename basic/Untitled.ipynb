{
 "cells": [
  {
   "cell_type": "code",
   "execution_count": 2,
   "metadata": {},
   "outputs": [
    {
     "name": "stdin",
     "output_type": "stream",
     "text": [
      "Enter the number of subjects: 3\n",
      "Enter the subject name: math\n",
      "Enter the subject name: science\n",
      "Enter the subject name: english\n"
     ]
    },
    {
     "data": {
      "text/plain": [
       "['math', 'science', 'english']"
      ]
     },
     "execution_count": 2,
     "metadata": {},
     "output_type": "execute_result"
    }
   ],
   "source": [
    "def subjects():\n",
    "    sub=[]\n",
    "    j=1\n",
    "    number_of_subjects=int(input(\"Enter the number of subjects:\"))\n",
    "    while j<=number_of_subjects:\n",
    "        subject=input(\"Enter the subject name:\")\n",
    "        j+=1\n",
    "        sub.append(subject)\n",
    "    return(sub)\n",
    "    \n",
    "#subjects()"
   ]
  },
  {
   "cell_type": "code",
   "execution_count": 1,
   "metadata": {},
   "outputs": [
    {
     "name": "stdin",
     "output_type": "stream",
     "text": [
      "Enter the number of students: 2\n",
      "Enter the name of  the student 1: sagar\n",
      "Enter the name of  the student 2: suman\n"
     ]
    },
    {
     "data": {
      "text/plain": [
       "['sagar', 'suman']"
      ]
     },
     "execution_count": 1,
     "metadata": {},
     "output_type": "execute_result"
    }
   ],
   "source": [
    "def students():\n",
    "    names=[]\n",
    "    i=1\n",
    "    number_of_students=int(input(\"Enter the number of students:\"))\n",
    "    while i<=number_of_students:\n",
    "        name=input(f\"Enter the name of  the student {i}:\")\n",
    "        i+=1\n",
    "        names.append(name)\n",
    "    return(names)\n",
    "\n",
    "#students()"
   ]
  },
  {
   "cell_type": "code",
   "execution_count": 2,
   "metadata": {},
   "outputs": [
    {
     "ename": "NameError",
     "evalue": "name 'subjects' is not defined",
     "output_type": "error",
     "traceback": [
      "\u001b[1;31m---------------------------------------------------------------------------\u001b[0m",
      "\u001b[1;31mNameError\u001b[0m                                 Traceback (most recent call last)",
      "\u001b[1;32m<ipython-input-2-196886c05a82>\u001b[0m in \u001b[0;36m<module>\u001b[1;34m\u001b[0m\n\u001b[0;32m     28\u001b[0m \u001b[1;33m\u001b[0m\u001b[0m\n\u001b[0;32m     29\u001b[0m \u001b[1;33m\u001b[0m\u001b[0m\n\u001b[1;32m---> 30\u001b[1;33m \u001b[0mmark_obtained\u001b[0m\u001b[1;33m(\u001b[0m\u001b[1;33m)\u001b[0m\u001b[1;33m\u001b[0m\u001b[1;33m\u001b[0m\u001b[0m\n\u001b[0m",
      "\u001b[1;32m<ipython-input-2-196886c05a82>\u001b[0m in \u001b[0;36mmark_obtained\u001b[1;34m()\u001b[0m\n\u001b[0;32m      1\u001b[0m \u001b[1;32mdef\u001b[0m \u001b[0mmark_obtained\u001b[0m\u001b[1;33m(\u001b[0m\u001b[1;33m)\u001b[0m\u001b[1;33m:\u001b[0m\u001b[1;33m\u001b[0m\u001b[1;33m\u001b[0m\u001b[0m\n\u001b[1;32m----> 2\u001b[1;33m     \u001b[0msubjects\u001b[0m\u001b[1;33m(\u001b[0m\u001b[1;33m)\u001b[0m\u001b[1;33m\u001b[0m\u001b[1;33m\u001b[0m\u001b[0m\n\u001b[0m\u001b[0;32m      3\u001b[0m     \u001b[0mstudents\u001b[0m\u001b[1;33m(\u001b[0m\u001b[1;33m)\u001b[0m\u001b[1;33m\u001b[0m\u001b[1;33m\u001b[0m\u001b[0m\n\u001b[0;32m      4\u001b[0m \u001b[1;33m\u001b[0m\u001b[0m\n\u001b[0;32m      5\u001b[0m     \u001b[0mn\u001b[0m\u001b[1;33m=\u001b[0m\u001b[0mlen\u001b[0m\u001b[1;33m(\u001b[0m\u001b[0mstudents\u001b[0m\u001b[1;33m(\u001b[0m\u001b[1;33m)\u001b[0m\u001b[1;33m)\u001b[0m\u001b[1;33m\u001b[0m\u001b[1;33m\u001b[0m\u001b[0m\n",
      "\u001b[1;31mNameError\u001b[0m: name 'subjects' is not defined"
     ]
    }
   ],
   "source": [
    "def mark_obtained():\n",
    "    subjects()\n",
    "    students()\n",
    "    \n",
    "    n=len(students())\n",
    "    \n",
    "    w_mark=[]\n",
    "    \n",
    "    x=0\n",
    "    while x<n:\n",
    "        s_mark=[]\n",
    "        print(f\"========NAME: {students()[x]}=====\")\n",
    "        \n",
    "        mark=int(input(f\"Enter the marks of {subjects()[x]}:\"))\n",
    "        \n",
    "        if mark>100 or mark<0:\n",
    "            print(\"enter valid mark only.\")\n",
    "        else:\n",
    "            s_mark.append(mark)\n",
    "        \n",
    "        x+=1\n",
    "        \n",
    "    w_mark.append(s_mark)\n",
    "    \n",
    "    print(n)\n",
    "    \n",
    "    return(w_mark)\n",
    "    \n",
    "    \n",
    "mark_obtained()"
   ]
  },
  {
   "cell_type": "code",
   "execution_count": null,
   "metadata": {},
   "outputs": [],
   "source": []
  },
  {
   "cell_type": "code",
   "execution_count": 3,
   "metadata": {},
   "outputs": [
    {
     "ename": "SyntaxError",
     "evalue": "unexpected EOF while parsing (<ipython-input-3-e528053f88c0>, line 3)",
     "output_type": "error",
     "traceback": [
      "\u001b[1;36m  File \u001b[1;32m\"<ipython-input-3-e528053f88c0>\"\u001b[1;36m, line \u001b[1;32m3\u001b[0m\n\u001b[1;33m    \u001b[0m\n\u001b[1;37m    ^\u001b[0m\n\u001b[1;31mSyntaxError\u001b[0m\u001b[1;31m:\u001b[0m unexpected EOF while parsing\n"
     ]
    }
   ],
   "source": [
    "def per_cal():\n",
    "    \n",
    "    "
   ]
  },
  {
   "cell_type": "code",
   "execution_count": 3,
   "metadata": {},
   "outputs": [
    {
     "name": "stdout",
     "output_type": "stream",
     "text": [
      "=========COMPUTER BAZZAR==========\n",
      "AVAIABLBE NOW:\n",
      "\t1.MAC  (RS.60000)\n",
      "\t2.DELL  (RS.40000)\n",
      "\t3.TOSHIVA  (RS.20000)\n"
     ]
    },
    {
     "name": "stdin",
     "output_type": "stream",
     "text": [
      "Enter any options: 1\n"
     ]
    },
    {
     "data": {
      "text/plain": [
       "60000"
      ]
     },
     "execution_count": 3,
     "metadata": {},
     "output_type": "execute_result"
    }
   ],
   "source": [
    "def laptops():\n",
    "    print(\"=========COMPUTER BAZZAR==========\")\n",
    "    print(\"AVAIABLBE NOW:\\n\\t1.MAC  (RS.60000)\\n\\t2.DELL  (RS.40000)\\n\\t3.TOSHIVA  (RS.20000)\")\n",
    "    \n",
    "    n=int(input(\"Enter any options:\"))\n",
    "    \n",
    "    if n==1:\n",
    "        return 60000\n",
    "    if n==2:\n",
    "        return 40000\n",
    "    if n==3:\n",
    "        return 20000\n",
    "    else:\n",
    "        return \"enter valid optiion\"\n",
    "    \n",
    "laptops()"
   ]
  },
  {
   "cell_type": "code",
   "execution_count": 4,
   "metadata": {},
   "outputs": [
    {
     "name": "stdout",
     "output_type": "stream",
     "text": [
      "=========COMPUTER BAZZAR==========\n",
      "AVAIABLBE NOW:\n",
      "\t1.MAC  (RS.60000)\n",
      "\t2.DELL  (RS.40000)\n",
      "\t3.TOSHIVA  (RS.20000)\n"
     ]
    },
    {
     "name": "stdin",
     "output_type": "stream",
     "text": [
      "Enter any options: 1\n",
      "Enter quantity: 3\n"
     ]
    },
    {
     "name": "stdout",
     "output_type": "stream",
     "text": [
      "=========COMPUTER BAZZAR==========\n",
      "AVAIABLBE NOW:\n",
      "\t1.MAC  (RS.60000)\n",
      "\t2.DELL  (RS.40000)\n",
      "\t3.TOSHIVA  (RS.20000)\n"
     ]
    },
    {
     "name": "stdin",
     "output_type": "stream",
     "text": [
      "Enter any options: 2\n"
     ]
    },
    {
     "data": {
      "text/plain": [
       "120000"
      ]
     },
     "execution_count": 4,
     "metadata": {},
     "output_type": "execute_result"
    }
   ],
   "source": [
    "def t_price():#taxable amount\n",
    "    laptops()\n",
    "    quantity=int(input(\"Enter quantity:\"))\n",
    "    \n",
    "    taxable_amount=laptops()*quantity\n",
    "    \n",
    "    return taxable_amount\n",
    "\n",
    "t_price()"
   ]
  },
  {
   "cell_type": "code",
   "execution_count": 6,
   "metadata": {},
   "outputs": [
    {
     "name": "stdout",
     "output_type": "stream",
     "text": [
      "PACKGING OPTIONS:\n",
      "\t1.LAPTOP BAG:(RS.1000)\n",
      "\t2.PLASTIC BAG:(RS.500)\n",
      "\t3.GIFT BOX:(RS.4000)\n"
     ]
    },
    {
     "name": "stdin",
     "output_type": "stream",
     "text": [
      "Enter packging option: j\n"
     ]
    },
    {
     "ename": "ValueError",
     "evalue": "invalid literal for int() with base 10: 'j'",
     "output_type": "error",
     "traceback": [
      "\u001b[1;31m---------------------------------------------------------------------------\u001b[0m",
      "\u001b[1;31mValueError\u001b[0m                                Traceback (most recent call last)",
      "\u001b[1;32m<ipython-input-6-effcf07f8d02>\u001b[0m in \u001b[0;36m<module>\u001b[1;34m\u001b[0m\n\u001b[0;32m      4\u001b[0m     \u001b[0mpak\u001b[0m\u001b[1;33m=\u001b[0m\u001b[0mint\u001b[0m\u001b[1;33m(\u001b[0m\u001b[0minput\u001b[0m\u001b[1;33m(\u001b[0m\u001b[1;34m\"Enter packging option:\"\u001b[0m\u001b[1;33m)\u001b[0m\u001b[1;33m)\u001b[0m\u001b[1;33m\u001b[0m\u001b[1;33m\u001b[0m\u001b[0m\n\u001b[0;32m      5\u001b[0m \u001b[1;33m\u001b[0m\u001b[0m\n\u001b[1;32m----> 6\u001b[1;33m \u001b[0mothr\u001b[0m\u001b[1;33m(\u001b[0m\u001b[1;33m)\u001b[0m\u001b[1;33m\u001b[0m\u001b[1;33m\u001b[0m\u001b[0m\n\u001b[0m",
      "\u001b[1;32m<ipython-input-6-effcf07f8d02>\u001b[0m in \u001b[0;36mothr\u001b[1;34m()\u001b[0m\n\u001b[0;32m      2\u001b[0m     \u001b[0mprint\u001b[0m\u001b[1;33m(\u001b[0m\u001b[1;34m\"PACKGING OPTIONS:\\n\\t1.LAPTOP BAG:(RS.1000)\\n\\t2.PLASTIC BAG:(RS.500)\\n\\t3.GIFT BOX:(RS.4000)\"\u001b[0m\u001b[1;33m)\u001b[0m\u001b[1;33m\u001b[0m\u001b[1;33m\u001b[0m\u001b[0m\n\u001b[0;32m      3\u001b[0m \u001b[1;33m\u001b[0m\u001b[0m\n\u001b[1;32m----> 4\u001b[1;33m     \u001b[0mpak\u001b[0m\u001b[1;33m=\u001b[0m\u001b[0mint\u001b[0m\u001b[1;33m(\u001b[0m\u001b[0minput\u001b[0m\u001b[1;33m(\u001b[0m\u001b[1;34m\"Enter packging option:\"\u001b[0m\u001b[1;33m)\u001b[0m\u001b[1;33m)\u001b[0m\u001b[1;33m\u001b[0m\u001b[1;33m\u001b[0m\u001b[0m\n\u001b[0m\u001b[0;32m      5\u001b[0m \u001b[1;33m\u001b[0m\u001b[0m\n\u001b[0;32m      6\u001b[0m \u001b[0mothr\u001b[0m\u001b[1;33m(\u001b[0m\u001b[1;33m)\u001b[0m\u001b[1;33m\u001b[0m\u001b[1;33m\u001b[0m\u001b[0m\n",
      "\u001b[1;31mValueError\u001b[0m: invalid literal for int() with base 10: 'j'"
     ]
    }
   ],
   "source": [
    "def othr():\n",
    "    print(\"PACKGING OPTIONS:\\n\\t1.LAPTOP BAG:(RS.1000)\\n\\t2.PLASTIC BAG:(RS.500)\\n\\t3.GIFT BOX:(RS.4000)\")\n",
    "    \n",
    "    pak=int(input(\"Enter packging option:\"))\n",
    "    \n",
    "othr()"
   ]
  },
  {
   "cell_type": "code",
   "execution_count": null,
   "metadata": {},
   "outputs": [],
   "source": []
  }
 ],
 "metadata": {
  "kernelspec": {
   "display_name": "Python 3",
   "language": "python",
   "name": "python3"
  },
  "language_info": {
   "codemirror_mode": {
    "name": "ipython",
    "version": 3
   },
   "file_extension": ".py",
   "mimetype": "text/x-python",
   "name": "python",
   "nbconvert_exporter": "python",
   "pygments_lexer": "ipython3",
   "version": "3.7.6"
  }
 },
 "nbformat": 4,
 "nbformat_minor": 4
}
