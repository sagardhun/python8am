{
 "cells": [
  {
   "cell_type": "code",
   "execution_count": 8,
   "metadata": {},
   "outputs": [
    {
     "name": "stdin",
     "output_type": "stream",
     "text": [
      "Enter number of students:  2\n"
     ]
    },
    {
     "name": "stdout",
     "output_type": "stream",
     "text": [
      "======Student 1======\n"
     ]
    },
    {
     "name": "stdin",
     "output_type": "stream",
     "text": [
      "Enter english marks 33\n",
      "Enter nepali marks 43\n",
      "Enter math marks 43\n"
     ]
    },
    {
     "name": "stdout",
     "output_type": "stream",
     "text": [
      "======Student 2======\n"
     ]
    },
    {
     "name": "stdin",
     "output_type": "stream",
     "text": [
      "Enter english marks 43\n",
      "Enter nepali marks 43\n",
      "Enter math marks 43\n"
     ]
    }
   ],
   "source": [
    "#insterting students marks\n",
    "subjects=['english','nepali','math']\n",
    "\n",
    "num = int(input(\"Enter number of students: \"))\n",
    "\n",
    "students = []\n",
    "x = 1\n",
    "while x <= num:\n",
    "    print(f\"======Student {x}======\")\n",
    "    store_maks = []\n",
    "    for i in range(0, 3):\n",
    "        mask = int(input(f\"Enter {subjects[i]} marks\"))\n",
    "        store_maks.append(mask)\n",
    "\n",
    "    students.append(store_maks)\n",
    "    x+=1"
   ]
  },
  {
   "cell_type": "code",
   "execution_count": 9,
   "metadata": {},
   "outputs": [
    {
     "name": "stdout",
     "output_type": "stream",
     "text": [
      "Result: 119\n",
      "Result: 129\n"
     ]
    }
   ],
   "source": [
    "#calculating total marks of each students\n",
    "result = []\n",
    "total = 0\n",
    "\n",
    "for ms in students:\n",
    "    total_mask = 0\n",
    "    for a in ms:\n",
    "        total_mask += int(a)\n",
    "\n",
    "    result.append(total_mask)\n",
    "\n",
    "for res in result:\n",
    "    print(f\"Result: {res}\")\n"
   ]
  },
  {
   "cell_type": "code",
   "execution_count": null,
   "metadata": {},
   "outputs": [],
   "source": []
  },
  {
   "cell_type": "code",
   "execution_count": null,
   "metadata": {},
   "outputs": [
    {
     "name": "stdin",
     "output_type": "stream",
     "text": [
      "Enter the number of student: 2\n"
     ]
    },
    {
     "name": "stdout",
     "output_type": "stream",
     "text": [
      "========STUDENTS1========\n"
     ]
    }
   ],
   "source": [
    "subjects=['math', 'english', 'science']\n",
    "num=int(input(\"Enter the number of student:\"))\n",
    "\n",
    "mak=[]\n",
    "x=1\n",
    "while x<=num:\n",
    "    \n",
    "    print(f\"========STUDENTS{x}========\")\n",
    "    for i in subjects:\n",
    "        marks=int(input(f\"enter the marks of {i}:\"))    \n",
    "        mark.append(marks)\n",
    "        \n",
    "    mak.append(mark)\n",
    "    x+=1\n",
    "    \n",
    "print(mak)"
   ]
  },
  {
   "cell_type": "code",
   "execution_count": 9,
   "metadata": {},
   "outputs": [
    {
     "name": "stdout",
     "output_type": "stream",
     "text": [
      "[32, 35, 36]\n",
      "[36, 37, 39]\n"
     ]
    }
   ],
   "source": [
    "mak[0]\n",
    "for i in mak:\n",
    "    for \n",
    "    print(i)"
   ]
  },
  {
   "cell_type": "code",
   "execution_count": 14,
   "metadata": {},
   "outputs": [
    {
     "name": "stdout",
     "output_type": "stream",
     "text": [
      "[103, 112]\n"
     ]
    }
   ],
   "source": [
    "result=[]\n",
    "for i in mak:\n",
    "    sum=0\n",
    "    for j in i:\n",
    "        sum=sum+j\n",
    "    result.append(sum)\n",
    "print(result)"
   ]
  },
  {
   "cell_type": "code",
   "execution_count": 22,
   "metadata": {},
   "outputs": [
    {
     "name": "stdin",
     "output_type": "stream",
     "text": [
      "Enter the number of student: 2\n"
     ]
    },
    {
     "name": "stdout",
     "output_type": "stream",
     "text": [
      "=============STUDENT1===========\n"
     ]
    },
    {
     "name": "stdin",
     "output_type": "stream",
     "text": [
      "Enter the marks of Math: 25\n",
      "Enter the marks of Science: 27\n",
      "Enter the marks of English: 29\n"
     ]
    },
    {
     "name": "stdout",
     "output_type": "stream",
     "text": [
      "=============STUDENT2===========\n"
     ]
    },
    {
     "name": "stdin",
     "output_type": "stream",
     "text": [
      "Enter the marks of Math: 23\n",
      "Enter the marks of Science: 45\n",
      "Enter the marks of English: 47\n"
     ]
    },
    {
     "name": "stdout",
     "output_type": "stream",
     "text": [
      "[[25, 27, 29], [23, 45, 47]]\n",
      "[81, 115]\n",
      "percentage= 27.0\n",
      "percentage= 38.333333333333336\n"
     ]
    }
   ],
   "source": [
    "num=int(input(\"Enter the number of student:\"))\n",
    "subjects=['Math', 'Science', 'English']\n",
    "mak=[]\n",
    "x=1\n",
    "while x<=num:\n",
    "    print(f\"=============STUDENT{x}===========\")\n",
    "    mark=[]\n",
    "    for i in range(0,3):\n",
    "            marks=int(input(f\"Enter the marks of {subjects[i]}:\"))\n",
    "            mark.append(marks)\n",
    "    mak.append(mark)\n",
    "    x+=1\n",
    "    \n",
    "\n",
    "print(mak)\n",
    "\n",
    "total_marks=0\n",
    "result=[]\n",
    "\n",
    "for ms in mak:\n",
    "    sum=0\n",
    "    for a in ms:\n",
    "        sum=sum+a\n",
    "    result.append(sum)\n",
    "print(result)\n",
    "for i in result:\n",
    "    res=i*100/300\n",
    "    print(\"percentage=\",res)"
   ]
  },
  {
   "cell_type": "code",
   "execution_count": 23,
   "metadata": {},
   "outputs": [
    {
     "name": "stdout",
     "output_type": "stream",
     "text": [
      "[[25, 27, 29], [23, 45, 47]]\n"
     ]
    }
   ],
   "source": [
    "print(mak)"
   ]
  },
  {
   "cell_type": "code",
   "execution_count": 27,
   "metadata": {},
   "outputs": [
    {
     "name": "stdout",
     "output_type": "stream",
     "text": [
      "fail.\n"
     ]
    }
   ],
   "source": [
    "\n",
    " if res>60:\n",
    "    print(\"first division.\")\n",
    "else:\n",
    "    print(\"fail.\")"
   ]
  },
  {
   "cell_type": "code",
   "execution_count": 1,
   "metadata": {},
   "outputs": [
    {
     "name": "stdout",
     "output_type": "stream",
     "text": [
      "6\n"
     ]
    }
   ],
   "source": [
    "def max_of_two( x, y ):\n",
    "    if x > y:\n",
    "        return x\n",
    "    return y\n",
    "def max_of_three( x, y, z ):\n",
    "    return max_of_two( x, max_of_two( y, z ) )\n",
    "print(max_of_three(3, 6, -5))\n"
   ]
  },
  {
   "cell_type": "code",
   "execution_count": 2,
   "metadata": {},
   "outputs": [
    {
     "name": "stdout",
     "output_type": "stream",
     "text": [
      "9\n"
     ]
    }
   ],
   "source": [
    "def max_of_two(x,y):\n",
    "    if x>y:\n",
    "        return x\n",
    "    return y\n",
    "def max_of_three(x,y,z):\n",
    "    return max_of_two(x, max_of_two(y,z))\n",
    "print(max_of_three(8,6,9))"
   ]
  },
  {
   "cell_type": "code",
   "execution_count": 7,
   "metadata": {},
   "outputs": [
    {
     "name": "stdout",
     "output_type": "stream",
     "text": [
      "27\n"
     ]
    }
   ],
   "source": [
    "def max_of_two(x,y):\n",
    "    if x>y:\n",
    "        return x\n",
    "    return y\n",
    "def max_of_three(x,y,z):\n",
    "    return max_of_two(x,max_of_two(y,z))\n",
    "print(max_of_three(8,11,27))"
   ]
  },
  {
   "cell_type": "code",
   "execution_count": 19,
   "metadata": {},
   "outputs": [
    {
     "name": "stdout",
     "output_type": "stream",
     "text": [
      "[2002, 2009, 2016, 2023, 2037, 2044, 2051, 2058, 2072, 2079, 2086, 2093, 2107, 2114, 2121, 2128, 2142, 2149, 2156, 2163, 2177, 2184, 2191, 2198, 2212, 2219, 2226, 2233, 2247, 2254, 2261, 2268, 2282, 2289, 2296, 2303, 2317, 2324, 2331, 2338, 2352, 2359, 2366, 2373, 2387, 2394, 2401, 2408, 2422, 2429, 2436, 2443, 2457, 2464, 2471, 2478, 2492, 2499, 2506, 2513, 2527, 2534, 2541, 2548, 2562, 2569, 2576, 2583, 2597, 2604, 2611, 2618, 2632, 2639, 2646, 2653, 2667, 2674, 2681, 2688, 2702, 2709, 2716, 2723, 2737, 2744, 2751, 2758, 2772, 2779, 2786, 2793, 2807, 2814, 2821, 2828, 2842, 2849, 2856, 2863, 2877, 2884, 2891, 2898, 2912, 2919, 2926, 2933, 2947, 2954, 2961, 2968, 2982, 2989, 2996, 3003, 3017, 3024, 3031, 3038, 3052, 3059, 3066, 3073, 3087, 3094, 3101, 3108, 3122, 3129, 3136, 3143, 3157, 3164, 3171, 3178, 3192, 3199]\n"
     ]
    }
   ],
   "source": [
    "\"\"\"Write a program which will find all such numbers which are divisible by 7 but are not a multiple of 5,\n",
    "between 2000 and 3200 (both included).The numbers obtained should be printed in a comma-separated sequence on \n",
    "a single line.\"\"\"\n",
    "l=[]\n",
    "for i in range(2000,3200):\n",
    "    if i%7==0 and i%5!=0:\n",
    "        l.append(int(i))\n",
    "print(l)\n"
   ]
  },
  {
   "cell_type": "code",
   "execution_count": 24,
   "metadata": {},
   "outputs": [
    {
     "name": "stdout",
     "output_type": "stream",
     "text": [
      "2002,2009,2016,2023,2037,2044,2051,2058,2072,2079,2086,2093,2107,2114,2121,2128,2142,2149,2156,2163,2177,2184,2191,2198,2212,2219,2226,2233,2247,2254,2261,2268,2282,2289,2296,2303,2317,2324,2331,2338,2352,2359,2366,2373,2387,2394,2401,2408,2422,2429,2436,2443,2457,2464,2471,2478,2492,2499,2506,2513,2527,2534,2541,2548,2562,2569,2576,2583,2597,2604,2611,2618,2632,2639,2646,2653,2667,2674,2681,2688,2702,2709,2716,2723,2737,2744,2751,2758,2772,2779,2786,2793,2807,2814,2821,2828,2842,2849,2856,2863,2877,2884,2891,2898,2912,2919,2926,2933,2947,2954,2961,2968,2982,2989,2996,3003,3017,3024,3031,3038,3052,3059,3066,3073,3087,3094,3101,3108,3122,3129,3136,3143,3157,3164,3171,3178,3192,3199\n"
     ]
    }
   ],
   "source": [
    "for i in range(2000,3200):\n",
    "    if i%7==0 and i%5!=0:\n",
    "        print(i, end=',')\n",
    "print(\"\\b\")"
   ]
  },
  {
   "cell_type": "code",
   "execution_count": 29,
   "metadata": {},
   "outputs": [
    {
     "name": "stdin",
     "output_type": "stream",
     "text": [
      "Enter any number: 8\n"
     ]
    },
    {
     "name": "stdout",
     "output_type": "stream",
     "text": [
      "40320\n"
     ]
    }
   ],
   "source": [
    "\"\"\"Write a program which can compute the factorial of a given numbers.The results should be printed in a comma-separated \n",
    "sequence on a single line.Suppose the following input is supplied to the program: 8 Then, the output should be:40320\"\"\"\n",
    "def fact(x):\n",
    "    if x==0:\n",
    "        return 1\n",
    "    return x*fact(x-1)\n",
    "x=int(input(\"Enter any number:\"))\n",
    "print(fact(x))"
   ]
  },
  {
   "cell_type": "code",
   "execution_count": 36,
   "metadata": {},
   "outputs": [
    {
     "name": "stdin",
     "output_type": "stream",
     "text": [
      "Enter any number: 8\n"
     ]
    },
    {
     "name": "stdout",
     "output_type": "stream",
     "text": [
      "factorial of given number 8 is: 40320\n"
     ]
    }
   ],
   "source": [
    "n=int(input(\"Enter any number:\"))\n",
    "i=1\n",
    "fact=1\n",
    "while(i<=n):\n",
    "    fact=fact*i;\n",
    "    i+=1\n",
    "print(f\"factorial of given number {n} is:\",fact)"
   ]
  },
  {
   "cell_type": "code",
   "execution_count": 43,
   "metadata": {},
   "outputs": [
    {
     "name": "stdout",
     "output_type": "stream",
     "text": [
      "35\n"
     ]
    }
   ],
   "source": [
    "def sum(numbers):\n",
    "    total=0\n",
    "    for i in numbers:\n",
    "        total+=i\n",
    "    return total\n",
    "print(sum((5,6,7,8,9)))"
   ]
  },
  {
   "cell_type": "code",
   "execution_count": 49,
   "metadata": {},
   "outputs": [
    {
     "name": "stdout",
     "output_type": "stream",
     "text": [
      "300\n"
     ]
    }
   ],
   "source": [
    "def multiply(numbers):\n",
    "    total=1\n",
    "    for x in numbers:\n",
    "        total*=x\n",
    "    return total\n",
    "print(multiply((5,2,3,10)))\n"
   ]
  },
  {
   "cell_type": "code",
   "execution_count": 2,
   "metadata": {},
   "outputs": [
    {
     "name": "stdout",
     "output_type": "stream",
     "text": [
      "10\n",
      "13\n"
     ]
    },
    {
     "data": {
      "text/plain": [
       "['__bool__',\n",
       " '__class__',\n",
       " '__delattr__',\n",
       " '__dir__',\n",
       " '__doc__',\n",
       " '__eq__',\n",
       " '__format__',\n",
       " '__ge__',\n",
       " '__getattribute__',\n",
       " '__gt__',\n",
       " '__hash__',\n",
       " '__init__',\n",
       " '__init_subclass__',\n",
       " '__le__',\n",
       " '__lt__',\n",
       " '__ne__',\n",
       " '__new__',\n",
       " '__reduce__',\n",
       " '__reduce_ex__',\n",
       " '__repr__',\n",
       " '__setattr__',\n",
       " '__sizeof__',\n",
       " '__str__',\n",
       " '__subclasshook__']"
      ]
     },
     "execution_count": 2,
     "metadata": {},
     "output_type": "execute_result"
    }
   ],
   "source": [
    "x=10\n",
    "\n",
    "def test():\n",
    "    global x\n",
    "    print(x)\n",
    "    x=x+3\n",
    "    print(x)\n",
    "    \n",
    "dir(test())"
   ]
  },
  {
   "cell_type": "code",
   "execution_count": 3,
   "metadata": {},
   "outputs": [
    {
     "name": "stdout",
     "output_type": "stream",
     "text": [
      "13\n",
      "16\n"
     ]
    },
    {
     "data": {
      "text/plain": [
       "8794852685262"
      ]
     },
     "execution_count": 3,
     "metadata": {},
     "output_type": "execute_result"
    }
   ],
   "source": [
    "hash(test())"
   ]
  },
  {
   "cell_type": "code",
   "execution_count": 4,
   "metadata": {},
   "outputs": [
    {
     "name": "stdout",
     "output_type": "stream",
     "text": [
      "hello get\n"
     ]
    }
   ],
   "source": [
    "#funtion return value\n",
    "\n",
    "def test():\n",
    "    def get():\n",
    "        return \"hello get\"\n",
    "    return get\n",
    "print(test()())"
   ]
  },
  {
   "cell_type": "code",
   "execution_count": 7,
   "metadata": {},
   "outputs": [
    {
     "name": "stdout",
     "output_type": "stream",
     "text": [
      "hello get\n"
     ]
    }
   ],
   "source": [
    "def test():\n",
    "    def get():\n",
    "        return \"hello get\"\n",
    "    return get()\n",
    "print(test())"
   ]
  },
  {
   "cell_type": "code",
   "execution_count": 10,
   "metadata": {},
   "outputs": [
    {
     "name": "stdin",
     "output_type": "stream",
     "text": [
      "Enter the number of students: 2\n",
      "Enter the name of students: ram\n",
      "Enter the name of students: syam\n"
     ]
    },
    {
     "name": "stdout",
     "output_type": "stream",
     "text": [
      "ram\n",
      "syam\n"
     ]
    }
   ],
   "source": [
    "def get_name():\n",
    "    num_of_student=int(input(\"Enter the number of students:\"))\n",
    "    \n",
    "    i=0\n",
    "    students=[]\n",
    "    \n",
    "    while(i<num_of_student):\n",
    "        name=input(\"Enter the name of students:\")\n",
    "        students.append(name)\n",
    "        i+=1\n",
    "        \n",
    "    return students\n",
    "    \n",
    "def display():\n",
    "    for name in get_name():\n",
    "        print(name)\n",
    "    \n",
    "display()"
   ]
  },
  {
   "cell_type": "code",
   "execution_count": 3,
   "metadata": {},
   "outputs": [
    {
     "name": "stdin",
     "output_type": "stream",
     "text": [
      "Enter the number of students: 2\n",
      "Enter name: sagar\n",
      "Enter name: hari\n"
     ]
    },
    {
     "name": "stdout",
     "output_type": "stream",
     "text": [
      "['sagar', 'hari']\n"
     ]
    }
   ],
   "source": [
    "def students_name():\n",
    "    num=int(input(\"Enter the number of students:\"))\n",
    "    i=0\n",
    "    students_name=[]\n",
    "    while(i<num):\n",
    "        name=input(\"Enter name:\")\n",
    "        students_name.append(name)\n",
    "        i+=1\n",
    "    return(students_name)\n",
    "\n",
    "print(students_name())"
   ]
  },
  {
   "cell_type": "code",
   "execution_count": 1,
   "metadata": {},
   "outputs": [],
   "source": [
    "def subjects_name():\n",
    "    num=int"
   ]
  },
  {
   "cell_type": "code",
   "execution_count": 2,
   "metadata": {},
   "outputs": [
    {
     "name": "stdout",
     "output_type": "stream",
     "text": [
      "55\n"
     ]
    }
   ],
   "source": [
    "def total_number(*number):\n",
    "    size_of_array=len(number)\n",
    "    x=0\n",
    "    sum=0\n",
    "    \n",
    "    while x<size_of_array:\n",
    "        sum+=number[x]\n",
    "        x+=1\n",
    "        \n",
    "    print(sum)\n",
    "    \n",
    "    \n",
    "total_number(1,2,3,4,5,6,7,8,9,10)"
   ]
  },
  {
   "cell_type": "code",
   "execution_count": 6,
   "metadata": {},
   "outputs": [
    {
     "name": "stdout",
     "output_type": "stream",
     "text": [
      "sum of even: 30\n",
      "sum of odd: 25\n"
     ]
    }
   ],
   "source": [
    "def evenodd(*numbers):\n",
    "    size=len(numbers)\n",
    "    i=0\n",
    "    sum1=0\n",
    "    sum2=0\n",
    "    while i<size:\n",
    "        if numbers[i]%2==0:\n",
    "            sum1+=numbers[i]\n",
    "            i+=1\n",
    "        else:\n",
    "            sum2+=numbers[i]\n",
    "            i+=1\n",
    "        \n",
    "    print(\"sum of even:\",sum1)\n",
    "    print(\"sum of odd:\",sum2)\n",
    "    \n",
    "evenodd(1,2,3,4,5,6,7,8,9,10)"
   ]
  },
  {
   "cell_type": "code",
   "execution_count": 18,
   "metadata": {},
   "outputs": [
    {
     "name": "stdout",
     "output_type": "stream",
     "text": [
      "12\n",
      "24\n",
      "36\n",
      "48\n",
      "60\n",
      "72\n",
      "84\n",
      "96\n",
      "108\n",
      "120\n"
     ]
    }
   ],
   "source": [
    "def table(n,i=1):\n",
    "    print(n*i)\n",
    "    i+=1\n",
    "    if i<=10:\n",
    "        table(n,i)\n",
    "    \n",
    "table(12)\n"
   ]
  },
  {
   "cell_type": "code",
   "execution_count": 29,
   "metadata": {},
   "outputs": [
    {
     "ename": "NameError",
     "evalue": "name 'student' is not defined",
     "output_type": "error",
     "traceback": [
      "\u001b[1;31m---------------------------------------------------------------------------\u001b[0m",
      "\u001b[1;31mNameError\u001b[0m                                 Traceback (most recent call last)",
      "\u001b[1;32m<ipython-input-29-ca31e777705a>\u001b[0m in \u001b[0;36m<module>\u001b[1;34m\u001b[0m\n\u001b[0;32m     10\u001b[0m     \u001b[1;32mreturn\u001b[0m\u001b[1;33m(\u001b[0m\u001b[0mnames\u001b[0m\u001b[1;33m)\u001b[0m\u001b[1;33m\u001b[0m\u001b[1;33m\u001b[0m\u001b[0m\n\u001b[0;32m     11\u001b[0m \u001b[1;33m\u001b[0m\u001b[0m\n\u001b[1;32m---> 12\u001b[1;33m \u001b[0mstudent\u001b[0m\u001b[1;33m(\u001b[0m\u001b[1;33m)\u001b[0m\u001b[1;33m\u001b[0m\u001b[1;33m\u001b[0m\u001b[0m\n\u001b[0m\u001b[0;32m     13\u001b[0m \u001b[1;33m\u001b[0m\u001b[0m\n",
      "\u001b[1;31mNameError\u001b[0m: name 'student' is not defined"
     ]
    }
   ],
   "source": [
    "\n",
    "    "
   ]
  },
  {
   "cell_type": "code",
   "execution_count": 5,
   "metadata": {},
   "outputs": [
    {
     "name": "stdin",
     "output_type": "stream",
     "text": [
      "Enter the number of subjects: 3\n",
      "Enter the subject name: math\n",
      "Enter the subject name: science\n",
      "Enter the subject name: english\n"
     ]
    },
    {
     "name": "stdout",
     "output_type": "stream",
     "text": [
      "['math', 'science', 'english']\n"
     ]
    }
   ],
   "source": []
  },
  {
   "cell_type": "code",
   "execution_count": 1,
   "metadata": {},
   "outputs": [
    {
     "data": {
      "text/plain": [
       "'def score():\\n    for k in range(number_of_students):\\n        name=student(k)\\n    for l in range(number_of_subjects):\\n        subj=subjects(l)\\n    \\n    \\n    \\n    print(subjects[1])\\n    print(student[1])\\n    \\nscore()\\n    '"
      ]
     },
     "execution_count": 1,
     "metadata": {},
     "output_type": "execute_result"
    }
   ],
   "source": []
  },
  {
   "cell_type": "code",
   "execution_count": 28,
   "metadata": {},
   "outputs": [
    {
     "name": "stdout",
     "output_type": "stream",
     "text": [
      "13\n",
      "18\n"
     ]
    }
   ],
   "source": [
    "data=[\n",
    "    [1,2,3,4,5],\n",
    "    [6,7,8,9,10],\n",
    "    [11,12,13,14,15],\n",
    "    [16,17,18,19,20]\n",
    "]\n",
    "\n",
    "for i in data:\n",
    "    for j in i:\n",
    "        if j==13 or j==18:\n",
    "            print(j)\n",
    "            \n"
   ]
  },
  {
   "cell_type": "code",
   "execution_count": null,
   "metadata": {},
   "outputs": [],
   "source": []
  },
  {
   "cell_type": "code",
   "execution_count": null,
   "metadata": {},
   "outputs": [],
   "source": []
  }
 ],
 "metadata": {
  "kernelspec": {
   "display_name": "Python 3",
   "language": "python",
   "name": "python3"
  },
  "language_info": {
   "codemirror_mode": {
    "name": "ipython",
    "version": 3
   },
   "file_extension": ".py",
   "mimetype": "text/x-python",
   "name": "python",
   "nbconvert_exporter": "python",
   "pygments_lexer": "ipython3",
   "version": "3.7.6"
  }
 },
 "nbformat": 4,
 "nbformat_minor": 4
}
